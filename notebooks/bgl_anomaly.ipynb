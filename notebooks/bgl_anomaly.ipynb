{
 "cells": [
  {
   "cell_type": "code",
   "execution_count": 1,
   "metadata": {},
   "outputs": [],
   "source": [
    "from loglead.loaders.bgl import BGLLoader\n",
    "from loglead.enhancers import EventLogEnhancer, SequenceEnhancer\n",
    "import polars as pl\n"
   ]
  },
  {
   "cell_type": "code",
   "execution_count": null,
   "metadata": {},
   "outputs": [],
   "source": [
    "bgl_log_path = \"./Datasets/bgl/BGL.log\"\n",
    "bgl_loader = BGLLoader(filename=bgl_log_path)\n",
    "df = bgl_loader.execute()\n",
    "df = df.fill_null(\"\")"
   ]
  },
  {
   "cell_type": "code",
   "execution_count": null,
   "metadata": {},
   "outputs": [],
   "source": [
    "enhancer = EventLogEnhancer(df)\n",
    "df = enhancer.normalize()\n",
    "df = enhancer.parse_spell()\n",
    "df = enhancer.words()\n"
   ]
  },
  {
   "cell_type": "code",
   "execution_count": null,
   "metadata": {},
   "outputs": [],
   "source": [
    "df = enhancer.trigrams()\n",
    "df = enhancer.parse_drain()\n",
    "df = enhancer.parse_tip()\n"
   ]
  },
  {
   "cell_type": "code",
   "execution_count": null,
   "metadata": {},
   "outputs": [],
   "source": [
    "df = enhancer.parse_pliplom()"
   ]
  },
  {
   "cell_type": "code",
   "execution_count": null,
   "metadata": {},
   "outputs": [],
   "source": [
    "df = enhancer.parse_iplom()"
   ]
  },
  {
   "cell_type": "code",
   "execution_count": null,
   "metadata": {},
   "outputs": [],
   "source": [
    "df = enhancer.parse_brain()"
   ]
  },
  {
   "cell_type": "code",
   "execution_count": null,
   "metadata": {},
   "outputs": [],
   "source": [
    "df = enhancer.length()"
   ]
  },
  {
   "cell_type": "code",
   "execution_count": 2,
   "metadata": {},
   "outputs": [],
   "source": [
    "df = pl.read_parquet(\"output.parquet\")"
   ]
  },
  {
   "cell_type": "code",
   "execution_count": 3,
   "metadata": {},
   "outputs": [],
   "source": [
    "from loglead.anomaly_detection import AnomalyDetector\n",
    "anomaly_detector = AnomalyDetector(\n",
    "    item_list_col=\"e_words\",\n",
    "    numeric_cols=[\"e_words_len\", \"e_trigrams_len\", \"e_chars_len\", \"e_lines_len\", \"e_event_id_len\"],\n",
    "    label_col=\"anomaly\",\n",
    "    store_scores=True,\n",
    "    print_scores=True,\n",
    "    auc_roc=True\n",
    ")"
   ]
  },
  {
   "cell_type": "code",
   "execution_count": 4,
   "metadata": {},
   "outputs": [],
   "source": [
    "anomaly_detector.test_train_split(df, test_frac=0.9, shuffle=True)\n"
   ]
  },
  {
   "cell_type": "code",
   "execution_count": 5,
   "metadata": {},
   "outputs": [],
   "source": [
    "anomaly_detector.train_IsolationForest(n_estimators=100, contamination=\"auto\")\n",
    "\n"
   ]
  },
  {
   "cell_type": "code",
   "execution_count": 6,
   "metadata": {},
   "outputs": [
    {
     "name": "stdout",
     "output_type": "stream",
     "text": [
      "Results from model: IsolationForest\n",
      "Accuracy: 0.9265\n",
      "F1 Score: 0.0000\n",
      "AUC-ROC Score: 0.6949\n",
      "Confusion Matrix:\n",
      "[[3959272       0]\n",
      " [ 313894       0]]\n",
      "AUCROC: 0.6949\n"
     ]
    }
   ],
   "source": [
    "df = anomaly_detector.predict()\n"
   ]
  },
  {
   "cell_type": "code",
   "execution_count": null,
   "metadata": {},
   "outputs": [],
   "source": [
    "def split_parquet_polars(df, output_prefix, chunk_size):\n",
    "    for i, chunk in enumerate(range(0, len(df), chunk_size)):\n",
    "        df.slice(chunk, chunk_size).write_parquet(f\"{output_prefix}_{i}.parquet\")\n",
    "\n",
    "split_parquet_polars(df, \"anomaly_results\", 1000000)\n",
    "\n"
   ]
  },
  {
   "cell_type": "code",
   "execution_count": 9,
   "metadata": {},
   "outputs": [],
   "source": [
    "import pandas as pd\n",
    "df.sample(n=1000, shuffle=True).to_pandas().to_html(\"anomaly_results_sample.html\")"
   ]
  },
  {
   "cell_type": "code",
   "execution_count": null,
   "metadata": {},
   "outputs": [],
   "source": []
  }
 ],
 "metadata": {
  "kernelspec": {
   "display_name": "base",
   "language": "python",
   "name": "python3"
  },
  "language_info": {
   "codemirror_mode": {
    "name": "ipython",
    "version": 3
   },
   "file_extension": ".py",
   "mimetype": "text/x-python",
   "name": "python",
   "nbconvert_exporter": "python",
   "pygments_lexer": "ipython3",
   "version": "3.12.7"
  }
 },
 "nbformat": 4,
 "nbformat_minor": 2
}

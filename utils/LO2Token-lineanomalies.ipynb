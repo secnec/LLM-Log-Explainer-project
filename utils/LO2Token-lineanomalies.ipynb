{
 "cells": [
  {
   "cell_type": "code",
   "execution_count": 2,
   "metadata": {},
   "outputs": [],
   "source": [
    "from loglead.loaders.raw import RawLoader\n",
    "from loglead.enhancers import EventLogEnhancer, SequenceEnhancer\n",
    "import polars as pl\n",
    "import glob, os\n"
   ]
  },
  {
   "cell_type": "code",
   "execution_count": 3,
   "metadata": {},
   "outputs": [
    {
     "name": "stderr",
     "output_type": "stream",
     "text": [
      "/tmp/ipykernel_4632/105461940.py:20: ChronoFormatWarning: Detected the pattern `.%f` in the chrono format string. This pattern should not be used to parse values after a decimal point. Use `%.f` instead. See the full specification: https://docs.rs/chrono/latest/chrono/format/strftime\n",
      "  .str.strptime(pl.Datetime, \"%H:%M:%S.%f\", strict=False)\n"
     ]
    }
   ],
   "source": [
    "log_dir = \"../data/lo2-token/light-oauth2-data-1719592986/\"\n",
    "log_files = glob.glob(os.path.join(log_dir, \"*.log\"))\n",
    "\n",
    "all_dfs = []\n",
    "\n",
    "for log_file in log_files:\n",
    "    loader = RawLoader(\n",
    "        filename=log_file,\n",
    "        timestamp_pattern=r\"^(\\d{1,2}:\\d{2}:\\d{2}\\.\\d{3})\",\n",
    "        timestamp_format=\"%H:%M:%S.%f\",\n",
    "        missing_timestamp_action=\"merge\"\n",
    "    )\n",
    "    loader.load()\n",
    "\n",
    "    # Custom timestamp extraction and padding\n",
    "    df = loader.df.with_columns([\n",
    "        pl.col(\"m_message\")\n",
    "        .str.extract(loader.timestamp_pattern, group_index=1)\n",
    "        .str.pad_end(12, \"0\")\n",
    "        .str.strptime(pl.Datetime, \"%H:%M:%S.%f\", strict=False)\n",
    "        .alias(\"m_timestamp\"),\n",
    "\n",
    "        pl.col(\"m_message\")\n",
    "        .str.replace(loader.timestamp_pattern, \"\")\n",
    "        .alias(\"m_message\"),\n",
    "\n",
    "        pl.lit(os.path.basename(log_file)).alias(\"source_file\")  # keep file origin\n",
    "    ])\n",
    "\n",
    "    # Reorder columns\n",
    "    df = df.select([\"m_timestamp\", \"m_message\", \"source_file\"])\n",
    "\n",
    "    all_dfs.append(df)\n",
    "\n",
    "# Combine all logs\n",
    "df = pl.concat(all_dfs)\n",
    "\n",
    "# Enrich with parsed fields\n",
    "df = df.with_columns([\n",
    "    pl.col(\"m_message\").str.extract(r\"\\[([^\\]]+)\\]\", group_index=1).alias(\"thread\"),\n",
    "    pl.col(\"m_message\").str.extract(r\"\\] +(\\S+)\", group_index=1).alias(\"request_id\"),\n",
    "    pl.col(\"m_message\").str.extract(r\"\\] +\\S+ +(\\w+)\", group_index=1).alias(\"level\"),\n",
    "    pl.col(\"m_message\").str.extract(r\"\\w+ +(\\S+ +<init>)\", group_index=1).alias(\"class_method\"),\n",
    "    pl.col(\"m_message\").str.extract(r\"<init> - (.*)\", group_index=1).alias(\"log_text\")\n",
    "])\n",
    "\n",
    "df = df.fill_null(\"\")\n"
   ]
  },
  {
   "cell_type": "code",
   "execution_count": 4,
   "metadata": {},
   "outputs": [
    {
     "name": "stderr",
     "output_type": "stream",
     "text": [
      "2025-03-24 14:49:58.962292: E external/local_xla/xla/stream_executor/cuda/cuda_fft.cc:477] Unable to register cuFFT factory: Attempting to register factory for plugin cuFFT when one has already been registered\n",
      "WARNING: All log messages before absl::InitializeLog() is called are written to STDERR\n",
      "E0000 00:00:1742820599.036731    4632 cuda_dnn.cc:8310] Unable to register cuDNN factory: Attempting to register factory for plugin cuDNN when one has already been registered\n",
      "E0000 00:00:1742820599.056785    4632 cuda_blas.cc:1418] Unable to register cuBLAS factory: Attempting to register factory for plugin cuBLAS when one has already been registered\n",
      "2025-03-24 14:49:59.227225: I tensorflow/core/platform/cpu_feature_guard.cc:210] This TensorFlow binary is optimized to use available CPU instructions in performance-critical operations.\n",
      "To enable the following instructions: AVX2 FMA, in other operations, rebuild TensorFlow with the appropriate compiler flags.\n",
      "WARNING:root:Could not import BertEmbeddings because of: No module named 'transformers'\n",
      "/home/antti/anaconda3/lib/python3.12/site-packages/loglead/parsers/pl_iplom/pl_iplom.py:227: UserWarning: `to_struct()` should be passed a list of field names to avoid query errors in subsequent operations (e.g. <struct operation> not supported for dtype Unknown)\n",
      "  df_part = df_part.with_columns(pl.col(\"events\").list.to_struct()).unnest(\"events\")\n"
     ]
    }
   ],
   "source": [
    "enhancer = EventLogEnhancer(df)\n",
    "df = enhancer.normalize()\n",
    "df = enhancer.parse_spell()\n",
    "df = enhancer.words()\n",
    "df = enhancer.trigrams()\n",
    "df = enhancer.parse_drain()\n",
    "df = enhancer.parse_tip()\n",
    "df = enhancer.parse_pliplom()\n",
    "df = enhancer.parse_iplom()\n",
    "df = enhancer.parse_brain()\n",
    "df = enhancer.length()\n"
   ]
  },
  {
   "cell_type": "code",
   "execution_count": 5,
   "metadata": {},
   "outputs": [],
   "source": [
    "from loglead.anomaly_detection import AnomalyDetector\n",
    "anomaly_detector = AnomalyDetector(\n",
    "    item_list_col=\"e_words\",\n",
    "    numeric_cols=[\"e_words_len\", \"e_trigrams_len\", \"e_chars_len\", \"e_lines_len\", \"e_event_id_len\"],\n",
    "    store_scores=True,\n",
    "    print_scores=False,  # ← disable printing evaluation\n",
    "    auc_roc=False        # ← avoid computing ROC/AUC without labels\n",
    ")\n"
   ]
  },
  {
   "cell_type": "code",
   "execution_count": 6,
   "metadata": {},
   "outputs": [
    {
     "name": "stderr",
     "output_type": "stream",
     "text": [
      "/home/antti/anaconda3/lib/python3.12/site-packages/loglead/anomaly_detection.py:249: UserWarning: WARNING! data has no labels. Only unsupervised methods will work.\n",
      "  warnings.warn(\"WARNING! data has no labels. Only unsupervised methods will work.\",\n"
     ]
    }
   ],
   "source": [
    "anomaly_detector.test_train_split(df, test_frac=0.9, shuffle=True)\n",
    "anomaly_detector.train_IsolationForest(n_estimators=100, contamination=\"auto\")\n",
    "\n"
   ]
  },
  {
   "cell_type": "code",
   "execution_count": 7,
   "metadata": {},
   "outputs": [],
   "source": [
    "df = anomaly_detector.predict()\n"
   ]
  },
  {
   "cell_type": "code",
   "execution_count": 10,
   "metadata": {},
   "outputs": [
    {
     "data": {
      "text/html": [
       "<div><style>\n",
       ".dataframe > thead > tr,\n",
       ".dataframe > tbody > tr {\n",
       "  text-align: right;\n",
       "  white-space: pre-wrap;\n",
       "}\n",
       "</style>\n",
       "<small>shape: (100_082, 25)</small><table border=\"1\" class=\"dataframe\"><thead><tr><th>row_nr</th><th>m_timestamp</th><th>m_message</th><th>source_file</th><th>thread</th><th>request_id</th><th>level</th><th>class_method</th><th>log_text</th><th>e_message_normalized</th><th>e_event_spell_id</th><th>e_template_spell</th><th>e_words</th><th>e_words_len</th><th>e_trigrams</th><th>e_trigrams_len</th><th>e_event_drain_id</th><th>e_event_tip_id</th><th>e_event_pliplom_id</th><th>e_event_iplom_id</th><th>e_event_brain_id</th><th>e_chars_len</th><th>e_lines_len</th><th>e_event_id_len</th><th>pred_ano</th></tr><tr><td>u32</td><td>datetime[μs]</td><td>str</td><td>str</td><td>str</td><td>str</td><td>str</td><td>str</td><td>str</td><td>str</td><td>str</td><td>str</td><td>list[str]</td><td>u32</td><td>list[str]</td><td>u32</td><td>str</td><td>str</td><td>str</td><td>str</td><td>str</td><td>u32</td><td>u32</td><td>i32</td><td>i64</td></tr></thead><tbody><tr><td>55719</td><td>null</td><td>&quot; [XNIO-1 task-2]&nbsp;&nbsp;E61-h-vfSqus…</td><td>&quot;TOKEN_code_challenge_too_short…</td><td>&quot;XNIO-1 task-2&quot;</td><td>&quot;E61-h-vfSqus_AkkBGBerA&quot;</td><td>&quot;DEBUG&quot;</td><td>&quot;c.n.openapi.ApiNormalisedPath …</td><td>&quot;path = /oauth2/token, base pat…</td><td>&quot; [XNIO-&lt;NUM&gt; task-&lt;NUM&gt;]&nbsp;&nbsp;E61-…</td><td>&quot;c109ca39&quot;</td><td>&quot;[XNIO-&lt;NUM&gt; task-&lt;NUM&gt;] * DEBU…</td><td>[&quot;&quot;, &quot;[XNIO-1&quot;, … &quot;null&quot;]</td><td>18</td><td>[&quot; [X&quot;, &quot;NIO&quot;, … &quot; nu&quot;]</td><td>131</td><td>&quot;e18&quot;</td><td>&quot;e117&quot;</td><td>&quot;e5&quot;</td><td>&quot;e54efadb&quot;</td><td>&quot;E5&quot;</td><td>133</td><td>0</td><td>1</td><td>0</td></tr><tr><td>21646</td><td>null</td><td>&quot; [XNIO-1 task-4]&nbsp;&nbsp;5-28x-M8SL6p…</td><td>&quot;TOKEN_register_service_400_ser…</td><td>&quot;XNIO-1 task-4&quot;</td><td>&quot;5-28x-M8SL6pm7tbQQDe5Q&quot;</td><td>&quot;DEBUG&quot;</td><td>&quot;c.n.openapi.ApiNormalisedPath …</td><td>&quot;normalised = /oauth2/token&quot;</td><td>&quot; [XNIO-&lt;NUM&gt; task-&lt;NUM&gt;]&nbsp;&nbsp;&lt;NUM…</td><td>&quot;faa506fe&quot;</td><td>&quot;[XNIO-&lt;NUM&gt; task-&lt;NUM&gt;] * DEBU…</td><td>[&quot;&quot;, &quot;[XNIO-1&quot;, … &quot;/oauth2/token&quot;]</td><td>12</td><td>[&quot; [X&quot;, &quot;NIO&quot;, … &quot;tok&quot;]</td><td>110</td><td>&quot;e8&quot;</td><td>&quot;e294&quot;</td><td>&quot;e7e1&quot;</td><td>&quot;c9988eed&quot;</td><td>&quot;E12&quot;</td><td>112</td><td>0</td><td>1</td><td>0</td></tr><tr><td>27467</td><td>null</td><td>&quot; [XNIO-1 task-2]&nbsp;&nbsp;WlcAqVj6TLOU…</td><td>&quot;TOKEN_update_service_404_servi…</td><td>&quot;XNIO-1 task-2&quot;</td><td>&quot;WlcAqVj6TLOU2424jtOeLQ&quot;</td><td>&quot;DEBUG&quot;</td><td>&quot;c.n.openapi.ApiNormalisedPath …</td><td>&quot;normalised = /oauth2/token&quot;</td><td>&quot; [XNIO-&lt;NUM&gt; task-&lt;NUM&gt;]&nbsp;&nbsp;WlcA…</td><td>&quot;faa506fe&quot;</td><td>&quot;[XNIO-&lt;NUM&gt; task-&lt;NUM&gt;] * DEBU…</td><td>[&quot;&quot;, &quot;[XNIO-1&quot;, … &quot;/oauth2/token&quot;]</td><td>12</td><td>[&quot; [X&quot;, &quot;NIO&quot;, … &quot;tok&quot;]</td><td>110</td><td>&quot;e8&quot;</td><td>&quot;e294&quot;</td><td>&quot;e7e1&quot;</td><td>&quot;e54efadb&quot;</td><td>&quot;E12&quot;</td><td>112</td><td>0</td><td>1</td><td>0</td></tr><tr><td>42501</td><td>null</td><td>&quot; [XNIO-1 task-2]&nbsp;&nbsp;xeK0B9SpQkiB…</td><td>&quot;TOKEN_authorization_code_respo…</td><td>&quot;XNIO-1 task-2&quot;</td><td>&quot;xeK0B9SpQkiBhVWZY1zCaQ&quot;</td><td>&quot;DEBUG&quot;</td><td>&quot;c.n.openapi.ApiNormalisedPath …</td><td>&quot;path =/oauth2/token&quot;</td><td>&quot; [XNIO-&lt;NUM&gt; task-&lt;NUM&gt;]&nbsp;&nbsp;xeK0…</td><td>&quot;d3e7d490&quot;</td><td>&quot;[XNIO-&lt;NUM&gt; task-&lt;NUM&gt;] * DEBU…</td><td>[&quot;&quot;, &quot;[XNIO-1&quot;, … &quot;=/oauth2/token&quot;]</td><td>11</td><td>[&quot; [X&quot;, &quot;NIO&quot;, … &quot;oke&quot;]</td><td>103</td><td>&quot;e5&quot;</td><td>&quot;e225&quot;</td><td>&quot;e19e1&quot;</td><td>&quot;9cf2f45d&quot;</td><td>&quot;E8&quot;</td><td>105</td><td>0</td><td>1</td><td>0</td></tr><tr><td>57137</td><td>null</td><td>&quot; [XNIO-1 task-1]&nbsp;&nbsp;cjtXnrT8SECe…</td><td>&quot;TOKEN_update_client_404_client…</td><td>&quot;XNIO-1 task-1&quot;</td><td>&quot;cjtXnrT8SECeC37BI5_hAg&quot;</td><td>&quot;DEBUG&quot;</td><td>&quot;&quot;</td><td>&quot;&quot;</td><td>&quot; [XNIO-&lt;NUM&gt; task-&lt;NUM&gt;]&nbsp;&nbsp;cjtX…</td><td>&quot;68bb8a40&quot;</td><td>&quot;[XNIO-&lt;NUM&gt; task-&lt;NUM&gt;] * DEBU…</td><td>[&quot;&quot;, &quot;[XNIO-1&quot;, … &quot;authorization)&quot;]</td><td>15</td><td>[&quot; [X&quot;, &quot;NIO&quot;, … &quot;ion&quot;]</td><td>292</td><td>&quot;e20&quot;</td><td>&quot;e129&quot;</td><td>&quot;e3e1&quot;</td><td>&quot;9cf2f45d&quot;</td><td>&quot;E2&quot;</td><td>294</td><td>0</td><td>1</td><td>0</td></tr><tr><td>&hellip;</td><td>&hellip;</td><td>&hellip;</td><td>&hellip;</td><td>&hellip;</td><td>&hellip;</td><td>&hellip;</td><td>&hellip;</td><td>&hellip;</td><td>&hellip;</td><td>&hellip;</td><td>&hellip;</td><td>&hellip;</td><td>&hellip;</td><td>&hellip;</td><td>&hellip;</td><td>&hellip;</td><td>&hellip;</td><td>&hellip;</td><td>&hellip;</td><td>&hellip;</td><td>&hellip;</td><td>&hellip;</td><td>&hellip;</td><td>&hellip;</td></tr><tr><td>81049</td><td>null</td><td>&quot; [hz._hzInstance_1_dev.partiti…</td><td>&quot;TOKEN_code_verifier_missing_pk…</td><td>&quot;hz._hzInstance_1_dev.partition…</td><td>&quot;DEBUG&quot;</td><td>&quot;c&quot;</td><td>&quot;&quot;</td><td>&quot;&quot;</td><td>&quot; [hz._hzInstance_&lt;NUM&gt;_dev.par…</td><td>&quot;9bf2a03b&quot;</td><td>&quot;[hz._hzInstance_&lt;NUM&gt;_dev.part…</td><td>[&quot;&quot;, &quot;[hz._hzInstance_1_dev.partition-operation.thread-14]&quot;, … &quot;Store:0e718336-e1ab-4eed-b002-3d1ea851d2cd&quot;]</td><td>9</td><td>[&quot; [h&quot;, &quot;z._&quot;, … &quot;2cd&quot;]</td><td>147</td><td>&quot;e3&quot;</td><td>&quot;e4&quot;</td><td>&quot;e8&quot;</td><td>&quot;e54efadb&quot;</td><td>&quot;E7&quot;</td><td>149</td><td>0</td><td>1</td><td>0</td></tr><tr><td>32469</td><td>null</td><td>&quot; [XNIO-1 task-4]&nbsp;&nbsp;ww4GNVz-Q5uE…</td><td>&quot;TOKEN_get_client_404_no_client…</td><td>&quot;XNIO-1 task-4&quot;</td><td>&quot;ww4GNVz-Q5uE1ykqEzq6jQ&quot;</td><td>&quot;DEBUG&quot;</td><td>&quot;c.n.openapi.ApiNormalisedPath …</td><td>&quot;path = /oauth2/token, base pat…</td><td>&quot; [XNIO-&lt;NUM&gt; task-&lt;NUM&gt;]&nbsp;&nbsp;ww4G…</td><td>&quot;c109ca39&quot;</td><td>&quot;[XNIO-&lt;NUM&gt; task-&lt;NUM&gt;] * DEBU…</td><td>[&quot;&quot;, &quot;[XNIO-1&quot;, … &quot;null&quot;]</td><td>18</td><td>[&quot; [X&quot;, &quot;NIO&quot;, … &quot; nu&quot;]</td><td>131</td><td>&quot;e4&quot;</td><td>&quot;e117&quot;</td><td>&quot;e5&quot;</td><td>&quot;9cf2f45d&quot;</td><td>&quot;E5&quot;</td><td>133</td><td>0</td><td>1</td><td>0</td></tr><tr><td>87517</td><td>null</td><td>&quot; [XNIO-1 task-4]&nbsp;&nbsp;g-BWMLGBT_mH…</td><td>&quot;TOKEN_get_service_page_400_no_…</td><td>&quot;XNIO-1 task-4&quot;</td><td>&quot;g-BWMLGBT_mHUL0H77ytvQ&quot;</td><td>&quot;INFO&quot;</td><td>&quot;&quot;</td><td>&quot;&quot;</td><td>&quot; [XNIO-&lt;NUM&gt; task-&lt;NUM&gt;]&nbsp;&nbsp;g-BW…</td><td>&quot;6e0da366&quot;</td><td>&quot;[XNIO-&lt;NUM&gt; task-&lt;NUM&gt;] * INFO…</td><td>[&quot;&quot;, &quot;[XNIO-1&quot;, … &quot;/config&quot;]</td><td>19</td><td>[&quot; [X&quot;, &quot;NIO&quot;, … &quot;fig&quot;]</td><td>156</td><td>&quot;e16&quot;</td><td>&quot;e186&quot;</td><td>&quot;e15e1&quot;</td><td>&quot;5fea72f6&quot;</td><td>&quot;E4&quot;</td><td>158</td><td>0</td><td>1</td><td>0</td></tr><tr><td>49600</td><td>null</td><td>&quot; [XNIO-1 task-2]&nbsp;&nbsp;G_YpkU-0T6qX…</td><td>&quot;TOKEN_delete_token_404.log&quot;</td><td>&quot;XNIO-1 task-2&quot;</td><td>&quot;G_YpkU-0T6qXpueHJmCbBw&quot;</td><td>&quot;DEBUG&quot;</td><td>&quot;c.n.openapi.ApiNormalisedPath …</td><td>&quot;path = /oauth2/token, base pat…</td><td>&quot; [XNIO-&lt;NUM&gt; task-&lt;NUM&gt;]&nbsp;&nbsp;G_Yp…</td><td>&quot;c109ca39&quot;</td><td>&quot;[XNIO-&lt;NUM&gt; task-&lt;NUM&gt;] * DEBU…</td><td>[&quot;&quot;, &quot;[XNIO-1&quot;, … &quot;null&quot;]</td><td>18</td><td>[&quot; [X&quot;, &quot;NIO&quot;, … &quot; nu&quot;]</td><td>131</td><td>&quot;e18&quot;</td><td>&quot;e117&quot;</td><td>&quot;e5&quot;</td><td>&quot;987e1ed3&quot;</td><td>&quot;E5&quot;</td><td>133</td><td>0</td><td>1</td><td>0</td></tr><tr><td>94844</td><td>null</td><td>&quot; [XNIO-1 task-2]&nbsp;&nbsp;qP-Zr3ADQ2qb…</td><td>&quot;TOKEN_access_token_client_secr…</td><td>&quot;XNIO-1 task-2&quot;</td><td>&quot;qP-Zr3ADQ2qb0FfTQoFOYw&quot;</td><td>&quot;DEBUG&quot;</td><td>&quot;c.n.openapi.ApiNormalisedPath …</td><td>&quot;path = /oauth2/token, base pat…</td><td>&quot; [XNIO-&lt;NUM&gt; task-&lt;NUM&gt;]&nbsp;&nbsp;qP-Z…</td><td>&quot;c109ca39&quot;</td><td>&quot;[XNIO-&lt;NUM&gt; task-&lt;NUM&gt;] * DEBU…</td><td>[&quot;&quot;, &quot;[XNIO-1&quot;, … &quot;null&quot;]</td><td>18</td><td>[&quot; [X&quot;, &quot;NIO&quot;, … &quot; nu&quot;]</td><td>131</td><td>&quot;e4&quot;</td><td>&quot;e117&quot;</td><td>&quot;e5&quot;</td><td>&quot;d8b9edf4&quot;</td><td>&quot;E5&quot;</td><td>133</td><td>0</td><td>1</td><td>0</td></tr></tbody></table></div>"
      ],
      "text/plain": [
       "shape: (100_082, 25)\n",
       "┌────────┬────────────┬────────────┬────────────┬───┬───────────┬───────────┬───────────┬──────────┐\n",
       "│ row_nr ┆ m_timestam ┆ m_message  ┆ source_fil ┆ … ┆ e_chars_l ┆ e_lines_l ┆ e_event_i ┆ pred_ano │\n",
       "│ ---    ┆ p          ┆ ---        ┆ e          ┆   ┆ en        ┆ en        ┆ d_len     ┆ ---      │\n",
       "│ u32    ┆ ---        ┆ str        ┆ ---        ┆   ┆ ---       ┆ ---       ┆ ---       ┆ i64      │\n",
       "│        ┆ datetime[μ ┆            ┆ str        ┆   ┆ u32       ┆ u32       ┆ i32       ┆          │\n",
       "│        ┆ s]         ┆            ┆            ┆   ┆           ┆           ┆           ┆          │\n",
       "╞════════╪════════════╪════════════╪════════════╪═══╪═══════════╪═══════════╪═══════════╪══════════╡\n",
       "│ 55719  ┆ null       ┆ [XNIO-1    ┆ TOKEN_code ┆ … ┆ 133       ┆ 0         ┆ 1         ┆ 0        │\n",
       "│        ┆            ┆ task-2]    ┆ _challenge ┆   ┆           ┆           ┆           ┆          │\n",
       "│        ┆            ┆ E61-h-vfSq ┆ _too_short ┆   ┆           ┆           ┆           ┆          │\n",
       "│        ┆            ┆ us…        ┆ …          ┆   ┆           ┆           ┆           ┆          │\n",
       "│ 21646  ┆ null       ┆ [XNIO-1    ┆ TOKEN_regi ┆ … ┆ 112       ┆ 0         ┆ 1         ┆ 0        │\n",
       "│        ┆            ┆ task-4]    ┆ ster_servi ┆   ┆           ┆           ┆           ┆          │\n",
       "│        ┆            ┆ 5-28x-M8SL ┆ ce_400_ser ┆   ┆           ┆           ┆           ┆          │\n",
       "│        ┆            ┆ 6p…        ┆ …          ┆   ┆           ┆           ┆           ┆          │\n",
       "│ 27467  ┆ null       ┆ [XNIO-1    ┆ TOKEN_upda ┆ … ┆ 112       ┆ 0         ┆ 1         ┆ 0        │\n",
       "│        ┆            ┆ task-2]    ┆ te_service ┆   ┆           ┆           ┆           ┆          │\n",
       "│        ┆            ┆ WlcAqVj6TL ┆ _404_servi ┆   ┆           ┆           ┆           ┆          │\n",
       "│        ┆            ┆ OU…        ┆ …          ┆   ┆           ┆           ┆           ┆          │\n",
       "│ 42501  ┆ null       ┆ [XNIO-1    ┆ TOKEN_auth ┆ … ┆ 105       ┆ 0         ┆ 1         ┆ 0        │\n",
       "│        ┆            ┆ task-2]    ┆ orization_ ┆   ┆           ┆           ┆           ┆          │\n",
       "│        ┆            ┆ xeK0B9SpQk ┆ code_respo ┆   ┆           ┆           ┆           ┆          │\n",
       "│        ┆            ┆ iB…        ┆ …          ┆   ┆           ┆           ┆           ┆          │\n",
       "│ 57137  ┆ null       ┆ [XNIO-1    ┆ TOKEN_upda ┆ … ┆ 294       ┆ 0         ┆ 1         ┆ 0        │\n",
       "│        ┆            ┆ task-1]    ┆ te_client_ ┆   ┆           ┆           ┆           ┆          │\n",
       "│        ┆            ┆ cjtXnrT8SE ┆ 404_client ┆   ┆           ┆           ┆           ┆          │\n",
       "│        ┆            ┆ Ce…        ┆ …          ┆   ┆           ┆           ┆           ┆          │\n",
       "│ …      ┆ …          ┆ …          ┆ …          ┆ … ┆ …         ┆ …         ┆ …         ┆ …        │\n",
       "│ 81049  ┆ null       ┆ [hz._hzIns ┆ TOKEN_code ┆ … ┆ 149       ┆ 0         ┆ 1         ┆ 0        │\n",
       "│        ┆            ┆ tance_1_de ┆ _verifier_ ┆   ┆           ┆           ┆           ┆          │\n",
       "│        ┆            ┆ v.partiti… ┆ missing_pk ┆   ┆           ┆           ┆           ┆          │\n",
       "│        ┆            ┆            ┆ …          ┆   ┆           ┆           ┆           ┆          │\n",
       "│ 32469  ┆ null       ┆ [XNIO-1    ┆ TOKEN_get_ ┆ … ┆ 133       ┆ 0         ┆ 1         ┆ 0        │\n",
       "│        ┆            ┆ task-4]    ┆ client_404 ┆   ┆           ┆           ┆           ┆          │\n",
       "│        ┆            ┆ ww4GNVz-Q5 ┆ _no_client ┆   ┆           ┆           ┆           ┆          │\n",
       "│        ┆            ┆ uE…        ┆ …          ┆   ┆           ┆           ┆           ┆          │\n",
       "│ 87517  ┆ null       ┆ [XNIO-1    ┆ TOKEN_get_ ┆ … ┆ 158       ┆ 0         ┆ 1         ┆ 0        │\n",
       "│        ┆            ┆ task-4]    ┆ service_pa ┆   ┆           ┆           ┆           ┆          │\n",
       "│        ┆            ┆ g-BWMLGBT_ ┆ ge_400_no_ ┆   ┆           ┆           ┆           ┆          │\n",
       "│        ┆            ┆ mH…        ┆ …          ┆   ┆           ┆           ┆           ┆          │\n",
       "│ 49600  ┆ null       ┆ [XNIO-1    ┆ TOKEN_dele ┆ … ┆ 133       ┆ 0         ┆ 1         ┆ 0        │\n",
       "│        ┆            ┆ task-2]    ┆ te_token_4 ┆   ┆           ┆           ┆           ┆          │\n",
       "│        ┆            ┆ G_YpkU-0T6 ┆ 04.log     ┆   ┆           ┆           ┆           ┆          │\n",
       "│        ┆            ┆ qX…        ┆            ┆   ┆           ┆           ┆           ┆          │\n",
       "│ 94844  ┆ null       ┆ [XNIO-1    ┆ TOKEN_acce ┆ … ┆ 133       ┆ 0         ┆ 1         ┆ 0        │\n",
       "│        ┆            ┆ task-2]    ┆ ss_token_c ┆   ┆           ┆           ┆           ┆          │\n",
       "│        ┆            ┆ qP-Zr3ADQ2 ┆ lient_secr ┆   ┆           ┆           ┆           ┆          │\n",
       "│        ┆            ┆ qb…        ┆ …          ┆   ┆           ┆           ┆           ┆          │\n",
       "└────────┴────────────┴────────────┴────────────┴───┴───────────┴───────────┴───────────┴──────────┘"
      ]
     },
     "execution_count": 10,
     "metadata": {},
     "output_type": "execute_result"
    }
   ],
   "source": [
    "df"
   ]
  },
  {
   "cell_type": "code",
   "execution_count": 8,
   "metadata": {},
   "outputs": [],
   "source": [
    "anomalies = df.filter(pl.col(\"pred_ano\") == 1)\n"
   ]
  }
 ],
 "metadata": {
  "kernelspec": {
   "display_name": "base",
   "language": "python",
   "name": "python3"
  },
  "language_info": {
   "codemirror_mode": {
    "name": "ipython",
    "version": 3
   },
   "file_extension": ".py",
   "mimetype": "text/x-python",
   "name": "python",
   "nbconvert_exporter": "python",
   "pygments_lexer": "ipython3",
   "version": "3.12.7"
  }
 },
 "nbformat": 4,
 "nbformat_minor": 2
}

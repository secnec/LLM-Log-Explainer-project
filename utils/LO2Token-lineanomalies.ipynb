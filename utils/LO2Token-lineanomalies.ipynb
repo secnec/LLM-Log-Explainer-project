{
 "cells": [
  {
   "cell_type": "code",
   "execution_count": 63,
   "metadata": {},
   "outputs": [],
   "source": [
    "from loglead.loaders.raw import RawLoader\n",
    "from loglead.enhancers import EventLogEnhancer, SequenceEnhancer\n",
    "import polars as pl\n",
    "import glob, os\n"
   ]
  },
  {
   "cell_type": "code",
   "execution_count": 83,
   "metadata": {},
   "outputs": [
    {
     "name": "stderr",
     "output_type": "stream",
     "text": [
      "/tmp/ipykernel_10543/927634168.py:22: ChronoFormatWarning: Detected the pattern `.%f` in the chrono format string. This pattern should not be used to parse values after a decimal point. Use `%.f` instead. See the full specification: https://docs.rs/chrono/latest/chrono/format/strftime\n",
      "  .str.strptime(pl.Datetime, \"%H:%M:%S.%f\", strict=False)\n"
     ]
    }
   ],
   "source": [
    "#log_dir = \"../data/lo2-token/light-oauth2-data-1719592986/\"\n",
    "#log_files = glob.glob(os.path.join(log_dir, \"*.log\"))\n",
    "\n",
    "log_files = [\"../data/lo2-token/light-oauth2-data-1719592986/TOKEN_access_token_auth_header_error_401.log\"]\n",
    "\n",
    "all_dfs = []\n",
    "\n",
    "for log_file in log_files:\n",
    "    loader = RawLoader(\n",
    "        filename=log_file,\n",
    "        timestamp_pattern=r\"^(\\d{1,2}:\\d{2}:\\d{2}\\.\\d{3})\",\n",
    "        timestamp_format=\"%H:%M:%S.%f\",\n",
    "        missing_timestamp_action=\"merge\"\n",
    "    )\n",
    "    loader.load()\n",
    "\n",
    "    # Custom timestamp extraction and padding\n",
    "    df = loader.df.with_columns([\n",
    "        pl.col(\"m_message\")\n",
    "        .str.extract(loader.timestamp_pattern, group_index=1)\n",
    "        .str.pad_end(12, \"0\")\n",
    "        .str.strptime(pl.Datetime, \"%H:%M:%S.%f\", strict=False)\n",
    "        .alias(\"m_timestamp\"),\n",
    "\n",
    "        pl.col(\"m_message\")\n",
    "        .str.replace(loader.timestamp_pattern, \"\")\n",
    "        .alias(\"m_message\"),\n",
    "\n",
    "        pl.lit(os.path.basename(log_file)).alias(\"source_file\")  # keep file origin\n",
    "    ])\n",
    "\n",
    "    # Reorder columns\n",
    "    df = df.select([\"m_timestamp\", \"m_message\", \"source_file\"])\n",
    "\n",
    "    all_dfs.append(df)\n",
    "\n",
    "# Combine all logs\n",
    "df = pl.concat(all_dfs)\n",
    "\n",
    "# Enrich with parsed fields\n",
    "df = df.with_columns([\n",
    "    pl.col(\"m_message\").str.extract(r\"\\[([^\\]]+)\\]\", group_index=1).alias(\"thread\"),\n",
    "    pl.col(\"m_message\").str.extract(r\"\\] +(\\S+)\", group_index=1).alias(\"request_id\"),\n",
    "    pl.col(\"m_message\").str.extract(r\"\\] +\\S+ +(\\w+)\", group_index=1).alias(\"level\"),\n",
    "    pl.col(\"m_message\").str.extract(r\"\\w+ +(\\S+ +<init>)\", group_index=1).alias(\"class_method\"),\n",
    "    pl.col(\"m_message\").str.extract(r\"<init> - (.*)\", group_index=1).alias(\"log_text\")\n",
    "])\n",
    "\n",
    "df = df.fill_null(\"\")\n"
   ]
  },
  {
   "cell_type": "code",
   "execution_count": 84,
   "metadata": {},
   "outputs": [
    {
     "name": "stderr",
     "output_type": "stream",
     "text": [
      "/home/antti/anaconda3/lib/python3.12/site-packages/loglead/parsers/pl_iplom/pl_iplom.py:227: UserWarning: `to_struct()` should be passed a list of field names to avoid query errors in subsequent operations (e.g. <struct operation> not supported for dtype Unknown)\n",
      "  df_part = df_part.with_columns(pl.col(\"events\").list.to_struct()).unnest(\"events\")\n"
     ]
    }
   ],
   "source": [
    "enhancer = EventLogEnhancer(df)\n",
    "df = enhancer.normalize()\n",
    "df = enhancer.parse_spell()\n",
    "df = enhancer.words()\n",
    "df = enhancer.trigrams()\n",
    "df = enhancer.parse_drain()\n",
    "df = enhancer.parse_tip()\n",
    "df = enhancer.parse_pliplom()\n",
    "df = enhancer.parse_iplom()\n",
    "df = enhancer.parse_brain()\n",
    "df = enhancer.length()\n"
   ]
  },
  {
   "cell_type": "code",
   "execution_count": 85,
   "metadata": {},
   "outputs": [],
   "source": [
    "from loglead.anomaly_detection import AnomalyDetector\n",
    "anomaly_detector = AnomalyDetector(\n",
    "    item_list_col=\"e_words\",\n",
    "    numeric_cols=[\"e_words_len\", \"e_trigrams_len\", \"e_chars_len\", \"e_lines_len\", \"e_event_id_len\"],\n",
    "    store_scores=True,\n",
    "    print_scores=False,  # ← disable printing evaluation\n",
    "    auc_roc=False        # ← avoid computing ROC/AUC without labels\n",
    ")\n",
    "\n",
    "\n"
   ]
  },
  {
   "cell_type": "code",
   "execution_count": 86,
   "metadata": {},
   "outputs": [
    {
     "name": "stderr",
     "output_type": "stream",
     "text": [
      "/home/antti/anaconda3/lib/python3.12/site-packages/loglead/anomaly_detection.py:249: UserWarning: WARNING! data has no labels. Only unsupervised methods will work.\n",
      "  warnings.warn(\"WARNING! data has no labels. Only unsupervised methods will work.\",\n"
     ]
    },
    {
     "data": {
      "text/html": [
       "<div><style>\n",
       ".dataframe > thead > tr,\n",
       ".dataframe > tbody > tr {\n",
       "  text-align: right;\n",
       "  white-space: pre-wrap;\n",
       "}\n",
       "</style>\n",
       "<small>shape: (189, 25)</small><table border=\"1\" class=\"dataframe\"><thead><tr><th>row_nr</th><th>m_timestamp</th><th>m_message</th><th>source_file</th><th>thread</th><th>request_id</th><th>level</th><th>class_method</th><th>log_text</th><th>e_message_normalized</th><th>e_event_spell_id</th><th>e_template_spell</th><th>e_words</th><th>e_words_len</th><th>e_trigrams</th><th>e_trigrams_len</th><th>e_event_drain_id</th><th>e_event_tip_id</th><th>e_event_pliplom_id</th><th>e_event_iplom_id</th><th>e_event_brain_id</th><th>e_chars_len</th><th>e_lines_len</th><th>e_event_id_len</th><th>pred_ano</th></tr><tr><td>u32</td><td>datetime[μs]</td><td>str</td><td>str</td><td>str</td><td>str</td><td>str</td><td>str</td><td>str</td><td>str</td><td>str</td><td>str</td><td>list[str]</td><td>u32</td><td>list[str]</td><td>u32</td><td>str</td><td>str</td><td>str</td><td>str</td><td>str</td><td>u32</td><td>u32</td><td>i32</td><td>i64</td></tr></thead><tbody><tr><td>2205</td><td>null</td><td>&quot;\tat com.mysql.cj.jdbc.exceptio…</td><td>&quot;TOKEN_access_token_auth_header…</td><td>&quot;&quot;</td><td>&quot;&quot;</td><td>&quot;&quot;</td><td>&quot;&quot;</td><td>&quot;&quot;</td><td>&quot;\tat com.mysql.cj.jdbc.exceptio…</td><td>&quot;ab972341&quot;</td><td>&quot;at *&quot;</td><td>[&quot;\tat&quot;, &quot;com.mysql.cj.jdbc.exceptions.SQLError.createSQLException(SQLError.java:97)&quot;]</td><td>2</td><td>[&quot;\tat&quot;, &quot; co&quot;, … &quot;:97&quot;]</td><td>76</td><td>&quot;e11&quot;</td><td>&quot;e15&quot;</td><td>&quot;e11&quot;</td><td>&quot;d712aeda&quot;</td><td>&quot;E12&quot;</td><td>78</td><td>0</td><td>1</td><td>1</td></tr><tr><td>1092</td><td>null</td><td>&quot; [XNIO-1 task-4]&nbsp;&nbsp;T3jyu-cXR-CN…</td><td>&quot;TOKEN_access_token_auth_header…</td><td>&quot;XNIO-1 task-4&quot;</td><td>&quot;T3jyu-cXR-CNNX5s1zvLXg&quot;</td><td>&quot;DEBUG&quot;</td><td>&quot;&quot;</td><td>&quot;&quot;</td><td>&quot; [XNIO-&lt;NUM&gt; task-&lt;NUM&gt;]&nbsp;&nbsp;T3jy…</td><td>&quot;03f9324a&quot;</td><td>&quot;[XNIO-&lt;NUM&gt; task-&lt;NUM&gt;] * DEBU…</td><td>[&quot;&quot;, &quot;[XNIO-1&quot;, … &quot;http://localhost:8080/authorization&quot;]</td><td>15</td><td>[&quot; [X&quot;, &quot;NIO&quot;, … &quot;ion&quot;]</td><td>183</td><td>&quot;e9&quot;</td><td>&quot;e13&quot;</td><td>&quot;e10&quot;</td><td>&quot;987e1ed3&quot;</td><td>&quot;E2&quot;</td><td>185</td><td>0</td><td>1</td><td>1</td></tr><tr><td>504</td><td>null</td><td>&quot; [XNIO-1 task-2]&nbsp;&nbsp;I_-ih0zXRBuk…</td><td>&quot;TOKEN_access_token_auth_header…</td><td>&quot;XNIO-1 task-2&quot;</td><td>&quot;I_-ih0zXRBuk1d7-c_TGMQ&quot;</td><td>&quot;DEBUG&quot;</td><td>&quot;&quot;</td><td>&quot;&quot;</td><td>&quot; [XNIO-&lt;NUM&gt; task-&lt;NUM&gt;]&nbsp;&nbsp;I_-i…</td><td>&quot;4c99f89d&quot;</td><td>&quot;[XNIO-&lt;NUM&gt; task-&lt;NUM&gt;] * DEBU…</td><td>[&quot;&quot;, &quot;[XNIO-1&quot;, … &quot;http://localhost:8080/authorization&quot;]</td><td>15</td><td>[&quot; [X&quot;, &quot;NIO&quot;, … &quot;ion&quot;]</td><td>183</td><td>&quot;e30&quot;</td><td>&quot;e13&quot;</td><td>&quot;e10&quot;</td><td>&quot;5fea72f6&quot;</td><td>&quot;E2&quot;</td><td>185</td><td>0</td><td>1</td><td>1</td></tr><tr><td>2606</td><td>null</td><td>&quot; [hz._hzInstance_1_dev.partiti…</td><td>&quot;TOKEN_access_token_auth_header…</td><td>&quot;hz._hzInstance_1_dev.partition…</td><td>&quot;DEBUG&quot;</td><td>&quot;c&quot;</td><td>&quot;&quot;</td><td>&quot;&quot;</td><td>&quot; [hz._hzInstance_&lt;NUM&gt;_dev.par…</td><td>&quot;9bf2a03b&quot;</td><td>&quot;[hz._hzInstance_&lt;NUM&gt;_dev.part…</td><td>[&quot;&quot;, &quot;[hz._hzInstance_1_dev.partition-operation.thread-10]&quot;, … &quot;Load:c32af8be&quot;]</td><td>9</td><td>[&quot; [h&quot;, &quot;z._&quot;, … &quot;f8b&quot;]</td><td>112</td><td>&quot;e3&quot;</td><td>&quot;e4&quot;</td><td>&quot;e7&quot;</td><td>&quot;e54efadb&quot;</td><td>&quot;E6&quot;</td><td>114</td><td>0</td><td>1</td><td>1</td></tr><tr><td>587</td><td>null</td><td>&quot;\tat com.networknt.audit.AuditH…</td><td>&quot;TOKEN_access_token_auth_header…</td><td>&quot;&quot;</td><td>&quot;&quot;</td><td>&quot;&quot;</td><td>&quot;&quot;</td><td>&quot;&quot;</td><td>&quot;\tat com.networknt.audit.AuditH…</td><td>&quot;ab972341&quot;</td><td>&quot;at *&quot;</td><td>[&quot;\tat&quot;, &quot;com.networknt.audit.AuditHandler.next(AuditHandler.java:192)&quot;]</td><td>2</td><td>[&quot;\tat&quot;, &quot; co&quot;, … &quot;:19&quot;]</td><td>62</td><td>&quot;e11&quot;</td><td>&quot;e15&quot;</td><td>&quot;e11&quot;</td><td>&quot;987e1ed3&quot;</td><td>&quot;E12&quot;</td><td>64</td><td>0</td><td>1</td><td>1</td></tr><tr><td>&hellip;</td><td>&hellip;</td><td>&hellip;</td><td>&hellip;</td><td>&hellip;</td><td>&hellip;</td><td>&hellip;</td><td>&hellip;</td><td>&hellip;</td><td>&hellip;</td><td>&hellip;</td><td>&hellip;</td><td>&hellip;</td><td>&hellip;</td><td>&hellip;</td><td>&hellip;</td><td>&hellip;</td><td>&hellip;</td><td>&hellip;</td><td>&hellip;</td><td>&hellip;</td><td>&hellip;</td><td>&hellip;</td><td>&hellip;</td><td>&hellip;</td></tr><tr><td>2278</td><td>null</td><td>&quot; [XNIO-1 task-4]&nbsp;&nbsp;diK46mjOQg21…</td><td>&quot;TOKEN_access_token_auth_header…</td><td>&quot;XNIO-1 task-4&quot;</td><td>&quot;diK46mjOQg21SM7ZOqaveg&quot;</td><td>&quot;DEBUG&quot;</td><td>&quot;&quot;</td><td>&quot;&quot;</td><td>&quot; [XNIO-&lt;NUM&gt; task-&lt;NUM&gt;]&nbsp;&nbsp;diK4…</td><td>&quot;03f9324a&quot;</td><td>&quot;[XNIO-&lt;NUM&gt; task-&lt;NUM&gt;] * DEBU…</td><td>[&quot;&quot;, &quot;[XNIO-1&quot;, … &quot;http://localhost:8080/authorization&quot;]</td><td>15</td><td>[&quot; [X&quot;, &quot;NIO&quot;, … &quot;ion&quot;]</td><td>183</td><td>&quot;e9&quot;</td><td>&quot;e13&quot;</td><td>&quot;e10&quot;</td><td>&quot;987e1ed3&quot;</td><td>&quot;E2&quot;</td><td>185</td><td>0</td><td>1</td><td>1</td></tr><tr><td>111</td><td>null</td><td>&quot; [hz._hzInstance_1_dev.partiti…</td><td>&quot;TOKEN_access_token_auth_header…</td><td>&quot;hz._hzInstance_1_dev.partition…</td><td>&quot;DEBUG&quot;</td><td>&quot;c&quot;</td><td>&quot;&quot;</td><td>&quot;&quot;</td><td>&quot; [hz._hzInstance_&lt;NUM&gt;_dev.par…</td><td>&quot;9bf2a03b&quot;</td><td>&quot;[hz._hzInstance_&lt;NUM&gt;_dev.part…</td><td>[&quot;&quot;, &quot;[hz._hzInstance_1_dev.partition-operation.thread-3]&quot;, … &quot;Load:e1a67eac&quot;]</td><td>9</td><td>[&quot; [h&quot;, &quot;z._&quot;, … &quot;eac&quot;]</td><td>111</td><td>&quot;e3&quot;</td><td>&quot;e4&quot;</td><td>&quot;e7&quot;</td><td>&quot;e54efadb&quot;</td><td>&quot;E6&quot;</td><td>113</td><td>0</td><td>1</td><td>1</td></tr><tr><td>2346</td><td>null</td><td>&quot;\tat com.networknt.audit.AuditH…</td><td>&quot;TOKEN_access_token_auth_header…</td><td>&quot;&quot;</td><td>&quot;&quot;</td><td>&quot;&quot;</td><td>&quot;&quot;</td><td>&quot;&quot;</td><td>&quot;\tat com.networknt.audit.AuditH…</td><td>&quot;ab972341&quot;</td><td>&quot;at *&quot;</td><td>[&quot;\tat&quot;, &quot;com.networknt.audit.AuditHandler.next(AuditHandler.java:192)&quot;]</td><td>2</td><td>[&quot;\tat&quot;, &quot; co&quot;, … &quot;:19&quot;]</td><td>62</td><td>&quot;e11&quot;</td><td>&quot;e15&quot;</td><td>&quot;e11&quot;</td><td>&quot;987e1ed3&quot;</td><td>&quot;E12&quot;</td><td>64</td><td>0</td><td>1</td><td>1</td></tr><tr><td>572</td><td>null</td><td>&quot; [hz._hzInstance_1_dev.partiti…</td><td>&quot;TOKEN_access_token_auth_header…</td><td>&quot;hz._hzInstance_1_dev.partition…</td><td>&quot;DEBUG&quot;</td><td>&quot;c&quot;</td><td>&quot;&quot;</td><td>&quot;&quot;</td><td>&quot; [hz._hzInstance_&lt;NUM&gt;_dev.par…</td><td>&quot;9bf2a03b&quot;</td><td>&quot;[hz._hzInstance_&lt;NUM&gt;_dev.part…</td><td>[&quot;&quot;, &quot;[hz._hzInstance_1_dev.partition-operation.thread-5]&quot;, … &quot;Load:3a0c09fb-21ab-400a-a1d5-73f20734af82&quot;]</td><td>9</td><td>[&quot; [h&quot;, &quot;z._&quot;, … &quot;f82&quot;]</td><td>138</td><td>&quot;e3&quot;</td><td>&quot;e4&quot;</td><td>&quot;e7&quot;</td><td>&quot;e54efadb&quot;</td><td>&quot;E6&quot;</td><td>140</td><td>0</td><td>1</td><td>1</td></tr><tr><td>76</td><td>null</td><td>&quot;\tat com.hazelcast.spi.Operatio…</td><td>&quot;TOKEN_access_token_auth_header…</td><td>&quot;&quot;</td><td>&quot;&quot;</td><td>&quot;&quot;</td><td>&quot;&quot;</td><td>&quot;&quot;</td><td>&quot;\tat com.hazelcast.spi.Operatio…</td><td>&quot;ab972341&quot;</td><td>&quot;at *&quot;</td><td>[&quot;\tat&quot;, &quot;com.hazelcast.spi.Operation.call(Operation.java:170)&quot;]</td><td>2</td><td>[&quot;\tat&quot;, &quot; co&quot;, … &quot;70)&quot;]</td><td>54</td><td>&quot;e11&quot;</td><td>&quot;e15&quot;</td><td>&quot;e11&quot;</td><td>&quot;987e1ed3&quot;</td><td>&quot;E12&quot;</td><td>56</td><td>0</td><td>1</td><td>1</td></tr></tbody></table></div>"
      ],
      "text/plain": [
       "shape: (189, 25)\n",
       "┌────────┬────────────┬────────────┬────────────┬───┬───────────┬───────────┬───────────┬──────────┐\n",
       "│ row_nr ┆ m_timestam ┆ m_message  ┆ source_fil ┆ … ┆ e_chars_l ┆ e_lines_l ┆ e_event_i ┆ pred_ano │\n",
       "│ ---    ┆ p          ┆ ---        ┆ e          ┆   ┆ en        ┆ en        ┆ d_len     ┆ ---      │\n",
       "│ u32    ┆ ---        ┆ str        ┆ ---        ┆   ┆ ---       ┆ ---       ┆ ---       ┆ i64      │\n",
       "│        ┆ datetime[μ ┆            ┆ str        ┆   ┆ u32       ┆ u32       ┆ i32       ┆          │\n",
       "│        ┆ s]         ┆            ┆            ┆   ┆           ┆           ┆           ┆          │\n",
       "╞════════╪════════════╪════════════╪════════════╪═══╪═══════════╪═══════════╪═══════════╪══════════╡\n",
       "│ 2205   ┆ null       ┆ \tat com.my ┆ TOKEN_acce ┆ … ┆ 78        ┆ 0         ┆ 1         ┆ 1        │\n",
       "│        ┆            ┆ sql.cj.jdb ┆ ss_token_a ┆   ┆           ┆           ┆           ┆          │\n",
       "│        ┆            ┆ c.exceptio ┆ uth_header ┆   ┆           ┆           ┆           ┆          │\n",
       "│        ┆            ┆ …          ┆ …          ┆   ┆           ┆           ┆           ┆          │\n",
       "│ 1092   ┆ null       ┆ [XNIO-1    ┆ TOKEN_acce ┆ … ┆ 185       ┆ 0         ┆ 1         ┆ 1        │\n",
       "│        ┆            ┆ task-4]    ┆ ss_token_a ┆   ┆           ┆           ┆           ┆          │\n",
       "│        ┆            ┆ T3jyu-cXR- ┆ uth_header ┆   ┆           ┆           ┆           ┆          │\n",
       "│        ┆            ┆ CN…        ┆ …          ┆   ┆           ┆           ┆           ┆          │\n",
       "│ 504    ┆ null       ┆ [XNIO-1    ┆ TOKEN_acce ┆ … ┆ 185       ┆ 0         ┆ 1         ┆ 1        │\n",
       "│        ┆            ┆ task-2]    ┆ ss_token_a ┆   ┆           ┆           ┆           ┆          │\n",
       "│        ┆            ┆ I_-ih0zXRB ┆ uth_header ┆   ┆           ┆           ┆           ┆          │\n",
       "│        ┆            ┆ uk…        ┆ …          ┆   ┆           ┆           ┆           ┆          │\n",
       "│ 2606   ┆ null       ┆ [hz._hzIns ┆ TOKEN_acce ┆ … ┆ 114       ┆ 0         ┆ 1         ┆ 1        │\n",
       "│        ┆            ┆ tance_1_de ┆ ss_token_a ┆   ┆           ┆           ┆           ┆          │\n",
       "│        ┆            ┆ v.partiti… ┆ uth_header ┆   ┆           ┆           ┆           ┆          │\n",
       "│        ┆            ┆            ┆ …          ┆   ┆           ┆           ┆           ┆          │\n",
       "│ 587    ┆ null       ┆ \tat com.ne ┆ TOKEN_acce ┆ … ┆ 64        ┆ 0         ┆ 1         ┆ 1        │\n",
       "│        ┆            ┆ tworknt.au ┆ ss_token_a ┆   ┆           ┆           ┆           ┆          │\n",
       "│        ┆            ┆ dit.AuditH ┆ uth_header ┆   ┆           ┆           ┆           ┆          │\n",
       "│        ┆            ┆ …          ┆ …          ┆   ┆           ┆           ┆           ┆          │\n",
       "│ …      ┆ …          ┆ …          ┆ …          ┆ … ┆ …         ┆ …         ┆ …         ┆ …        │\n",
       "│ 2278   ┆ null       ┆ [XNIO-1    ┆ TOKEN_acce ┆ … ┆ 185       ┆ 0         ┆ 1         ┆ 1        │\n",
       "│        ┆            ┆ task-4]    ┆ ss_token_a ┆   ┆           ┆           ┆           ┆          │\n",
       "│        ┆            ┆ diK46mjOQg ┆ uth_header ┆   ┆           ┆           ┆           ┆          │\n",
       "│        ┆            ┆ 21…        ┆ …          ┆   ┆           ┆           ┆           ┆          │\n",
       "│ 111    ┆ null       ┆ [hz._hzIns ┆ TOKEN_acce ┆ … ┆ 113       ┆ 0         ┆ 1         ┆ 1        │\n",
       "│        ┆            ┆ tance_1_de ┆ ss_token_a ┆   ┆           ┆           ┆           ┆          │\n",
       "│        ┆            ┆ v.partiti… ┆ uth_header ┆   ┆           ┆           ┆           ┆          │\n",
       "│        ┆            ┆            ┆ …          ┆   ┆           ┆           ┆           ┆          │\n",
       "│ 2346   ┆ null       ┆ \tat com.ne ┆ TOKEN_acce ┆ … ┆ 64        ┆ 0         ┆ 1         ┆ 1        │\n",
       "│        ┆            ┆ tworknt.au ┆ ss_token_a ┆   ┆           ┆           ┆           ┆          │\n",
       "│        ┆            ┆ dit.AuditH ┆ uth_header ┆   ┆           ┆           ┆           ┆          │\n",
       "│        ┆            ┆ …          ┆ …          ┆   ┆           ┆           ┆           ┆          │\n",
       "│ 572    ┆ null       ┆ [hz._hzIns ┆ TOKEN_acce ┆ … ┆ 140       ┆ 0         ┆ 1         ┆ 1        │\n",
       "│        ┆            ┆ tance_1_de ┆ ss_token_a ┆   ┆           ┆           ┆           ┆          │\n",
       "│        ┆            ┆ v.partiti… ┆ uth_header ┆   ┆           ┆           ┆           ┆          │\n",
       "│        ┆            ┆            ┆ …          ┆   ┆           ┆           ┆           ┆          │\n",
       "│ 76     ┆ null       ┆ \tat com.ha ┆ TOKEN_acce ┆ … ┆ 56        ┆ 0         ┆ 1         ┆ 1        │\n",
       "│        ┆            ┆ zelcast.sp ┆ ss_token_a ┆   ┆           ┆           ┆           ┆          │\n",
       "│        ┆            ┆ i.Operatio ┆ uth_header ┆   ┆           ┆           ┆           ┆          │\n",
       "│        ┆            ┆ …          ┆ …          ┆   ┆           ┆           ┆           ┆          │\n",
       "└────────┴────────────┴────────────┴────────────┴───┴───────────┴───────────┴───────────┴──────────┘"
      ]
     },
     "execution_count": 86,
     "metadata": {},
     "output_type": "execute_result"
    }
   ],
   "source": [
    "anomaly_detector.test_train_split(df, test_frac=0.85, shuffle=True)\n",
    "anomaly_detector.train_LOF(n_neighbors=5)\n",
    "#anomaly_detector.train_IsolationForest(n_estimators=100, contamination=\"auto\")\n",
    "\n",
    "df = anomaly_detector.predict()\n",
    "df.filter(pl.col(\"pred_ano\") > 0)\n"
   ]
  },
  {
   "cell_type": "code",
   "execution_count": null,
   "metadata": {},
   "outputs": [
    {
     "data": {
      "text/html": [
       "<div><style>\n",
       ".dataframe > thead > tr,\n",
       ".dataframe > tbody > tr {\n",
       "  text-align: right;\n",
       "  white-space: pre-wrap;\n",
       "}\n",
       "</style>\n",
       "<small>shape: (1_558, 25)</small><table border=\"1\" class=\"dataframe\"><thead><tr><th>row_nr</th><th>m_timestamp</th><th>m_message</th><th>source_file</th><th>thread</th><th>request_id</th><th>level</th><th>class_method</th><th>log_text</th><th>e_message_normalized</th><th>e_event_spell_id</th><th>e_template_spell</th><th>e_words</th><th>e_words_len</th><th>e_trigrams</th><th>e_trigrams_len</th><th>e_event_drain_id</th><th>e_event_tip_id</th><th>e_event_pliplom_id</th><th>e_event_iplom_id</th><th>e_event_brain_id</th><th>e_chars_len</th><th>e_lines_len</th><th>e_event_id_len</th><th>pred_ano</th></tr><tr><td>u32</td><td>datetime[μs]</td><td>str</td><td>str</td><td>str</td><td>str</td><td>str</td><td>str</td><td>str</td><td>str</td><td>str</td><td>str</td><td>list[str]</td><td>u32</td><td>list[str]</td><td>u32</td><td>str</td><td>str</td><td>str</td><td>str</td><td>str</td><td>u32</td><td>u32</td><td>i32</td><td>i64</td></tr></thead><tbody><tr><td>75400</td><td>null</td><td>&quot;\tat com.hazelcast.spi.Operatio…</td><td>&quot;TOKEN_code_challenge_invalid_f…</td><td>&quot;&quot;</td><td>&quot;&quot;</td><td>&quot;&quot;</td><td>&quot;&quot;</td><td>&quot;&quot;</td><td>&quot;\tat com.hazelcast.spi.Operatio…</td><td>&quot;ab972341&quot;</td><td>&quot;at *&quot;</td><td>[&quot;\tat&quot;, &quot;com.hazelcast.spi.Operation.call(Operation.java:170)&quot;]</td><td>2</td><td>[&quot;\tat&quot;, &quot; co&quot;, … &quot;70)&quot;]</td><td>54</td><td>&quot;e11&quot;</td><td>&quot;e215&quot;</td><td>&quot;e22e1&quot;</td><td>&quot;1adbe184&quot;</td><td>&quot;E15&quot;</td><td>56</td><td>0</td><td>1</td><td>1</td></tr><tr><td>110098</td><td>null</td><td>&quot;\tat com.hazelcast.map.impl.map…</td><td>&quot;TOKEN_register_user_400_email_…</td><td>&quot;&quot;</td><td>&quot;&quot;</td><td>&quot;&quot;</td><td>&quot;&quot;</td><td>&quot;&quot;</td><td>&quot;\tat com.hazelcast.map.impl.map…</td><td>&quot;ab972341&quot;</td><td>&quot;at *&quot;</td><td>[&quot;\tat&quot;, &quot;com.hazelcast.map.impl.mapstore.writethrough.WriteThroughStore.remove(WriteThroughStore.java:56)&quot;]</td><td>2</td><td>[&quot;\tat&quot;, &quot; co&quot;, … &quot;a:5&quot;]</td><td>98</td><td>&quot;e11&quot;</td><td>&quot;e215&quot;</td><td>&quot;e22e1&quot;</td><td>&quot;e54efadb&quot;</td><td>&quot;E15&quot;</td><td>100</td><td>0</td><td>1</td><td>1</td></tr><tr><td>110093</td><td>null</td><td>&quot;Jun 28, 2024 4:40:42 PM com.ha…</td><td>&quot;TOKEN_register_user_400_email_…</td><td>&quot;&quot;</td><td>&quot;&quot;</td><td>&quot;&quot;</td><td>&quot;&quot;</td><td>&quot;&quot;</td><td>&quot;Jun &lt;NUM&gt;, &lt;NUM&gt; &lt;NUM&gt;:&lt;NUM&gt;:&lt;…</td><td>&quot;57f3ae84&quot;</td><td>&quot;Jun &lt;NUM&gt;, &lt;NUM&gt; &lt;NUM&gt;:&lt;NUM&gt;:&lt;…</td><td>[&quot;Jun&quot;, &quot;28,&quot;, … &quot;com.hazelcast.map.impl.operation.DeleteOperation&quot;]</td><td>6</td><td>[&quot;Jun&quot;, &quot; 28&quot;, … &quot;tio&quot;]</td><td>70</td><td>&quot;e39&quot;</td><td>&quot;e150&quot;</td><td>&quot;e2e2&quot;</td><td>&quot;e54efadb&quot;</td><td>&quot;E24&quot;</td><td>72</td><td>0</td><td>1</td><td>1</td></tr><tr><td>40150</td><td>null</td><td>&quot;\tat com.networknt.oauth.token.…</td><td>&quot;TOKEN_access_token_form_urlenc…</td><td>&quot;&quot;</td><td>&quot;&quot;</td><td>&quot;&quot;</td><td>&quot;&quot;</td><td>&quot;&quot;</td><td>&quot;\tat com.networknt.oauth.token.…</td><td>&quot;ab972341&quot;</td><td>&quot;at *&quot;</td><td>[&quot;\tat&quot;, &quot;com.networknt.oauth.token.handler.Oauth2TokenPostHandler.handleRequest(Oauth2TokenPostHandler.java:98)&quot;]</td><td>2</td><td>[&quot;\tat&quot;, &quot; co&quot;, … &quot;a:9&quot;]</td><td>104</td><td>&quot;e11&quot;</td><td>&quot;e215&quot;</td><td>&quot;e22e1&quot;</td><td>&quot;987e1ed3&quot;</td><td>&quot;E15&quot;</td><td>106</td><td>0</td><td>1</td><td>1</td></tr><tr><td>92917</td><td>null</td><td>&quot;\tat com.hazelcast.spi.impl.ope…</td><td>&quot;TOKEN_access_token_client_secr…</td><td>&quot;&quot;</td><td>&quot;&quot;</td><td>&quot;&quot;</td><td>&quot;&quot;</td><td>&quot;&quot;</td><td>&quot;\tat com.hazelcast.spi.impl.ope…</td><td>&quot;ab972341&quot;</td><td>&quot;at *&quot;</td><td>[&quot;\tat&quot;, &quot;com.hazelcast.spi.impl.operationservice.impl.OperationRunnerImpl.run(OperationRunnerImpl.java:416)&quot;]</td><td>2</td><td>[&quot;\tat&quot;, &quot; co&quot;, … &quot;416&quot;]</td><td>100</td><td>&quot;e11&quot;</td><td>&quot;e215&quot;</td><td>&quot;e22e1&quot;</td><td>&quot;987e1ed3&quot;</td><td>&quot;E15&quot;</td><td>102</td><td>0</td><td>1</td><td>1</td></tr><tr><td>&hellip;</td><td>&hellip;</td><td>&hellip;</td><td>&hellip;</td><td>&hellip;</td><td>&hellip;</td><td>&hellip;</td><td>&hellip;</td><td>&hellip;</td><td>&hellip;</td><td>&hellip;</td><td>&hellip;</td><td>&hellip;</td><td>&hellip;</td><td>&hellip;</td><td>&hellip;</td><td>&hellip;</td><td>&hellip;</td><td>&hellip;</td><td>&hellip;</td><td>&hellip;</td><td>&hellip;</td><td>&hellip;</td><td>&hellip;</td><td>&hellip;</td></tr><tr><td>93274</td><td>null</td><td>&quot;\tat com.networknt.oauth.token.…</td><td>&quot;TOKEN_access_token_client_secr…</td><td>&quot;&quot;</td><td>&quot;&quot;</td><td>&quot;&quot;</td><td>&quot;&quot;</td><td>&quot;&quot;</td><td>&quot;\tat com.networknt.oauth.token.…</td><td>&quot;ab972341&quot;</td><td>&quot;at *&quot;</td><td>[&quot;\tat&quot;, &quot;com.networknt.oauth.token.handler.Oauth2TokenPostHandler.validateClientSecret(Oauth2TokenPostHandler.java:577)&quot;]</td><td>2</td><td>[&quot;\tat&quot;, &quot; co&quot;, … &quot;577&quot;]</td><td>112</td><td>&quot;e11&quot;</td><td>&quot;e215&quot;</td><td>&quot;e22e1&quot;</td><td>&quot;987e1ed3&quot;</td><td>&quot;E15&quot;</td><td>114</td><td>0</td><td>1</td><td>1</td></tr><tr><td>30325</td><td>null</td><td>&quot;\tat com.mysql.cj.jdbc.ClientPr…</td><td>&quot;TOKEN_register_service_400_ser…</td><td>&quot;&quot;</td><td>&quot;&quot;</td><td>&quot;&quot;</td><td>&quot;&quot;</td><td>&quot;&quot;</td><td>&quot;\tat com.mysql.cj.jdbc.ClientPr…</td><td>&quot;ab972341&quot;</td><td>&quot;at *&quot;</td><td>[&quot;\tat&quot;, &quot;com.mysql.cj.jdbc.ClientPreparedStatement.executeUpdateInternal(ClientPreparedStatement.java:1094)&quot;]</td><td>2</td><td>[&quot;\tat&quot;, &quot; co&quot;, … &quot;094&quot;]</td><td>100</td><td>&quot;e11&quot;</td><td>&quot;e215&quot;</td><td>&quot;e22e1&quot;</td><td>&quot;e54efadb&quot;</td><td>&quot;E15&quot;</td><td>102</td><td>0</td><td>1</td><td>1</td></tr><tr><td>29740</td><td>null</td><td>&quot;\tat com.hazelcast.map.impl.rec…</td><td>&quot;TOKEN_register_service_400_ser…</td><td>&quot;&quot;</td><td>&quot;&quot;</td><td>&quot;&quot;</td><td>&quot;&quot;</td><td>&quot;&quot;</td><td>&quot;\tat com.hazelcast.map.impl.rec…</td><td>&quot;ab972341&quot;</td><td>&quot;at *&quot;</td><td>[&quot;\tat&quot;, &quot;com.hazelcast.map.impl.recordstore.DefaultRecordStore.delete(DefaultRecordStore.java:455)&quot;]</td><td>2</td><td>[&quot;\tat&quot;, &quot; co&quot;, … &quot;455&quot;]</td><td>91</td><td>&quot;e11&quot;</td><td>&quot;e215&quot;</td><td>&quot;e22e1&quot;</td><td>&quot;e54efadb&quot;</td><td>&quot;E15&quot;</td><td>93</td><td>0</td><td>1</td><td>1</td></tr><tr><td>60763</td><td>null</td><td>&quot;\tat com.hazelcast.map.impl.ope…</td><td>&quot;TOKEN_register_user_400_passwo…</td><td>&quot;&quot;</td><td>&quot;&quot;</td><td>&quot;&quot;</td><td>&quot;&quot;</td><td>&quot;&quot;</td><td>&quot;\tat com.hazelcast.map.impl.ope…</td><td>&quot;ab972341&quot;</td><td>&quot;at *&quot;</td><td>[&quot;\tat&quot;, &quot;com.hazelcast.map.impl.operation.DeleteOperation.run(DeleteOperation.java:44)&quot;]</td><td>2</td><td>[&quot;\tat&quot;, &quot; co&quot;, … &quot;:44&quot;]</td><td>79</td><td>&quot;e11&quot;</td><td>&quot;e215&quot;</td><td>&quot;e22e1&quot;</td><td>&quot;987e1ed3&quot;</td><td>&quot;E15&quot;</td><td>81</td><td>0</td><td>1</td><td>1</td></tr><tr><td>85321</td><td>null</td><td>&quot;\tat com.mysql.cj.jdbc.ClientPr…</td><td>&quot;TOKEN_code_verifier_too_long_p…</td><td>&quot;&quot;</td><td>&quot;&quot;</td><td>&quot;&quot;</td><td>&quot;&quot;</td><td>&quot;&quot;</td><td>&quot;\tat com.mysql.cj.jdbc.ClientPr…</td><td>&quot;ab972341&quot;</td><td>&quot;at *&quot;</td><td>[&quot;\tat&quot;, &quot;com.mysql.cj.jdbc.ClientPreparedStatement.executeUpdate(ClientPreparedStatement.java:1027)&quot;]</td><td>2</td><td>[&quot;\tat&quot;, &quot; co&quot;, … &quot;102&quot;]</td><td>92</td><td>&quot;e11&quot;</td><td>&quot;e215&quot;</td><td>&quot;e22e1&quot;</td><td>&quot;1adbe184&quot;</td><td>&quot;E15&quot;</td><td>94</td><td>0</td><td>1</td><td>1</td></tr></tbody></table></div>"
      ],
      "text/plain": [
       "shape: (1_558, 25)\n",
       "┌────────┬────────────┬────────────┬────────────┬───┬───────────┬───────────┬───────────┬──────────┐\n",
       "│ row_nr ┆ m_timestam ┆ m_message  ┆ source_fil ┆ … ┆ e_chars_l ┆ e_lines_l ┆ e_event_i ┆ pred_ano │\n",
       "│ ---    ┆ p          ┆ ---        ┆ e          ┆   ┆ en        ┆ en        ┆ d_len     ┆ ---      │\n",
       "│ u32    ┆ ---        ┆ str        ┆ ---        ┆   ┆ ---       ┆ ---       ┆ ---       ┆ i64      │\n",
       "│        ┆ datetime[μ ┆            ┆ str        ┆   ┆ u32       ┆ u32       ┆ i32       ┆          │\n",
       "│        ┆ s]         ┆            ┆            ┆   ┆           ┆           ┆           ┆          │\n",
       "╞════════╪════════════╪════════════╪════════════╪═══╪═══════════╪═══════════╪═══════════╪══════════╡\n",
       "│ 75400  ┆ null       ┆ \tat com.ha ┆ TOKEN_code ┆ … ┆ 56        ┆ 0         ┆ 1         ┆ 1        │\n",
       "│        ┆            ┆ zelcast.sp ┆ _challenge ┆   ┆           ┆           ┆           ┆          │\n",
       "│        ┆            ┆ i.Operatio ┆ _invalid_f ┆   ┆           ┆           ┆           ┆          │\n",
       "│        ┆            ┆ …          ┆ …          ┆   ┆           ┆           ┆           ┆          │\n",
       "│ 110098 ┆ null       ┆ \tat com.ha ┆ TOKEN_regi ┆ … ┆ 100       ┆ 0         ┆ 1         ┆ 1        │\n",
       "│        ┆            ┆ zelcast.ma ┆ ster_user_ ┆   ┆           ┆           ┆           ┆          │\n",
       "│        ┆            ┆ p.impl.map ┆ 400_email_ ┆   ┆           ┆           ┆           ┆          │\n",
       "│        ┆            ┆ …          ┆ …          ┆   ┆           ┆           ┆           ┆          │\n",
       "│ 110093 ┆ null       ┆ Jun 28,    ┆ TOKEN_regi ┆ … ┆ 72        ┆ 0         ┆ 1         ┆ 1        │\n",
       "│        ┆            ┆ 2024       ┆ ster_user_ ┆   ┆           ┆           ┆           ┆          │\n",
       "│        ┆            ┆ 4:40:42 PM ┆ 400_email_ ┆   ┆           ┆           ┆           ┆          │\n",
       "│        ┆            ┆ com.ha…    ┆ …          ┆   ┆           ┆           ┆           ┆          │\n",
       "│ 40150  ┆ null       ┆ \tat com.ne ┆ TOKEN_acce ┆ … ┆ 106       ┆ 0         ┆ 1         ┆ 1        │\n",
       "│        ┆            ┆ tworknt.oa ┆ ss_token_f ┆   ┆           ┆           ┆           ┆          │\n",
       "│        ┆            ┆ uth.token. ┆ orm_urlenc ┆   ┆           ┆           ┆           ┆          │\n",
       "│        ┆            ┆ …          ┆ …          ┆   ┆           ┆           ┆           ┆          │\n",
       "│ 92917  ┆ null       ┆ \tat com.ha ┆ TOKEN_acce ┆ … ┆ 102       ┆ 0         ┆ 1         ┆ 1        │\n",
       "│        ┆            ┆ zelcast.sp ┆ ss_token_c ┆   ┆           ┆           ┆           ┆          │\n",
       "│        ┆            ┆ i.impl.ope ┆ lient_secr ┆   ┆           ┆           ┆           ┆          │\n",
       "│        ┆            ┆ …          ┆ …          ┆   ┆           ┆           ┆           ┆          │\n",
       "│ …      ┆ …          ┆ …          ┆ …          ┆ … ┆ …         ┆ …         ┆ …         ┆ …        │\n",
       "│ 93274  ┆ null       ┆ \tat com.ne ┆ TOKEN_acce ┆ … ┆ 114       ┆ 0         ┆ 1         ┆ 1        │\n",
       "│        ┆            ┆ tworknt.oa ┆ ss_token_c ┆   ┆           ┆           ┆           ┆          │\n",
       "│        ┆            ┆ uth.token. ┆ lient_secr ┆   ┆           ┆           ┆           ┆          │\n",
       "│        ┆            ┆ …          ┆ …          ┆   ┆           ┆           ┆           ┆          │\n",
       "│ 30325  ┆ null       ┆ \tat com.my ┆ TOKEN_regi ┆ … ┆ 102       ┆ 0         ┆ 1         ┆ 1        │\n",
       "│        ┆            ┆ sql.cj.jdb ┆ ster_servi ┆   ┆           ┆           ┆           ┆          │\n",
       "│        ┆            ┆ c.ClientPr ┆ ce_400_ser ┆   ┆           ┆           ┆           ┆          │\n",
       "│        ┆            ┆ …          ┆ …          ┆   ┆           ┆           ┆           ┆          │\n",
       "│ 29740  ┆ null       ┆ \tat com.ha ┆ TOKEN_regi ┆ … ┆ 93        ┆ 0         ┆ 1         ┆ 1        │\n",
       "│        ┆            ┆ zelcast.ma ┆ ster_servi ┆   ┆           ┆           ┆           ┆          │\n",
       "│        ┆            ┆ p.impl.rec ┆ ce_400_ser ┆   ┆           ┆           ┆           ┆          │\n",
       "│        ┆            ┆ …          ┆ …          ┆   ┆           ┆           ┆           ┆          │\n",
       "│ 60763  ┆ null       ┆ \tat com.ha ┆ TOKEN_regi ┆ … ┆ 81        ┆ 0         ┆ 1         ┆ 1        │\n",
       "│        ┆            ┆ zelcast.ma ┆ ster_user_ ┆   ┆           ┆           ┆           ┆          │\n",
       "│        ┆            ┆ p.impl.ope ┆ 400_passwo ┆   ┆           ┆           ┆           ┆          │\n",
       "│        ┆            ┆ …          ┆ …          ┆   ┆           ┆           ┆           ┆          │\n",
       "│ 85321  ┆ null       ┆ \tat com.my ┆ TOKEN_code ┆ … ┆ 94        ┆ 0         ┆ 1         ┆ 1        │\n",
       "│        ┆            ┆ sql.cj.jdb ┆ _verifier_ ┆   ┆           ┆           ┆           ┆          │\n",
       "│        ┆            ┆ c.ClientPr ┆ too_long_p ┆   ┆           ┆           ┆           ┆          │\n",
       "│        ┆            ┆ …          ┆ …          ┆   ┆           ┆           ┆           ┆          │\n",
       "└────────┴────────────┴────────────┴────────────┴───┴───────────┴───────────┴───────────┴──────────┘"
      ]
     },
     "execution_count": 80,
     "metadata": {},
     "output_type": "execute_result"
    }
   ],
   "source": []
  },
  {
   "cell_type": "code",
   "execution_count": 61,
   "metadata": {},
   "outputs": [
    {
     "data": {
      "text/html": [
       "<div><style>\n",
       ".dataframe > thead > tr,\n",
       ".dataframe > tbody > tr {\n",
       "  text-align: right;\n",
       "  white-space: pre-wrap;\n",
       "}\n",
       "</style>\n",
       "<small>shape: (1, 5)</small><table border=\"1\" class=\"dataframe\"><thead><tr><th>e_words_len_nulls</th><th>e_trigrams_len_nulls</th><th>e_chars_len_nulls</th><th>e_lines_len_nulls</th><th>e_event_id_len_nulls</th></tr><tr><td>u32</td><td>u32</td><td>u32</td><td>u32</td><td>u32</td></tr></thead><tbody><tr><td>0</td><td>0</td><td>0</td><td>0</td><td>0</td></tr></tbody></table></div>"
      ],
      "text/plain": [
       "shape: (1, 5)\n",
       "┌───────────────────┬───────────────────┬───────────────────┬───────────────────┬──────────────────┐\n",
       "│ e_words_len_nulls ┆ e_trigrams_len_nu ┆ e_chars_len_nulls ┆ e_lines_len_nulls ┆ e_event_id_len_n │\n",
       "│ ---               ┆ lls               ┆ ---               ┆ ---               ┆ ulls             │\n",
       "│ u32               ┆ ---               ┆ u32               ┆ u32               ┆ ---              │\n",
       "│                   ┆ u32               ┆                   ┆                   ┆ u32              │\n",
       "╞═══════════════════╪═══════════════════╪═══════════════════╪═══════════════════╪══════════════════╡\n",
       "│ 0                 ┆ 0                 ┆ 0                 ┆ 0                 ┆ 0                │\n",
       "└───────────────────┴───────────────────┴───────────────────┴───────────────────┴──────────────────┘"
      ]
     },
     "execution_count": 61,
     "metadata": {},
     "output_type": "execute_result"
    }
   ],
   "source": [
    "df.select([\n",
    "    pl.col(\"e_words_len\").is_null().sum().alias(\"e_words_len_nulls\"),\n",
    "    pl.col(\"e_trigrams_len\").is_null().sum().alias(\"e_trigrams_len_nulls\"),\n",
    "    pl.col(\"e_chars_len\").is_null().sum().alias(\"e_chars_len_nulls\"),\n",
    "    pl.col(\"e_lines_len\").is_null().sum().alias(\"e_lines_len_nulls\"),\n",
    "    pl.col(\"e_event_id_len\").is_null().sum().alias(\"e_event_id_len_nulls\")\n",
    "])\n"
   ]
  },
  {
   "cell_type": "code",
   "execution_count": 62,
   "metadata": {},
   "outputs": [
    {
     "ename": "AttributeError",
     "evalue": "'ExprListNameSpace' object has no attribute 'lengths'",
     "output_type": "error",
     "traceback": [
      "\u001b[0;31m---------------------------------------------------------------------------\u001b[0m",
      "\u001b[0;31mAttributeError\u001b[0m                            Traceback (most recent call last)",
      "Cell \u001b[0;32mIn[62], line 2\u001b[0m\n\u001b[1;32m      1\u001b[0m df\u001b[38;5;241m.\u001b[39mfilter(\n\u001b[0;32m----> 2\u001b[0m     pl\u001b[38;5;241m.\u001b[39mcol(\u001b[38;5;124m\"\u001b[39m\u001b[38;5;124me_words\u001b[39m\u001b[38;5;124m\"\u001b[39m)\u001b[38;5;241m.\u001b[39mlist\u001b[38;5;241m.\u001b[39mlengths() \u001b[38;5;241m>\u001b[39m \u001b[38;5;241m0\u001b[39m\n\u001b[1;32m      3\u001b[0m )\u001b[38;5;241m.\u001b[39mselect(pl\u001b[38;5;241m.\u001b[39mcount())\n",
      "\u001b[0;31mAttributeError\u001b[0m: 'ExprListNameSpace' object has no attribute 'lengths'"
     ]
    }
   ],
   "source": [
    "df.filter(\n",
    "    pl.col(\"e_words\").list.lengths() > 0\n",
    ").select(pl.count())\n"
   ]
  },
  {
   "cell_type": "code",
   "execution_count": null,
   "metadata": {},
   "outputs": [],
   "source": [
    "anomalies = "
   ]
  },
  {
   "cell_type": "code",
   "execution_count": 11,
   "metadata": {},
   "outputs": [
    {
     "data": {
      "text/plain": [
       "['row_nr',\n",
       " 'm_timestamp',\n",
       " 'm_message',\n",
       " 'source_file',\n",
       " 'thread',\n",
       " 'request_id',\n",
       " 'level',\n",
       " 'class_method',\n",
       " 'log_text',\n",
       " 'e_message_normalized',\n",
       " 'e_event_spell_id',\n",
       " 'e_template_spell',\n",
       " 'e_words',\n",
       " 'e_words_len',\n",
       " 'e_trigrams',\n",
       " 'e_trigrams_len',\n",
       " 'e_event_drain_id',\n",
       " 'e_event_tip_id',\n",
       " 'e_event_pliplom_id',\n",
       " 'e_event_iplom_id',\n",
       " 'e_event_brain_id',\n",
       " 'e_chars_len',\n",
       " 'e_lines_len',\n",
       " 'e_event_id_len',\n",
       " 'pred_ano']"
      ]
     },
     "execution_count": 11,
     "metadata": {},
     "output_type": "execute_result"
    }
   ],
   "source": [
    "df.columns"
   ]
  },
  {
   "cell_type": "code",
   "execution_count": 13,
   "metadata": {},
   "outputs": [],
   "source": [
    "df.head(100).to_pandas().to_excel(\"LO2output.xlsx\", index=False, engine=\"openpyxl\")"
   ]
  },
  {
   "cell_type": "code",
   "execution_count": 11,
   "metadata": {},
   "outputs": [],
   "source": [
    "df.write_parquet(f\"../data/light-oauth2-data-1719592986.parquet\")"
   ]
  }
 ],
 "metadata": {
  "kernelspec": {
   "display_name": "base",
   "language": "python",
   "name": "python3"
  },
  "language_info": {
   "codemirror_mode": {
    "name": "ipython",
    "version": 3
   },
   "file_extension": ".py",
   "mimetype": "text/x-python",
   "name": "python",
   "nbconvert_exporter": "python",
   "pygments_lexer": "ipython3",
   "version": "3.12.7"
  }
 },
 "nbformat": 4,
 "nbformat_minor": 2
}
